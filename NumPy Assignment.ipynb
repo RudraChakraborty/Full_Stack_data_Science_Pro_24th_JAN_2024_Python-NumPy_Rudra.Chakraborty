{
 "cells": [
  {
   "cell_type": "markdown",
   "metadata": {},
   "source": [
    "# Numpy Assignment Questions"
   ]
  },
  {
   "cell_type": "code",
   "execution_count": 3,
   "metadata": {},
   "outputs": [],
   "source": [
    "import numpy as np"
   ]
  },
  {
   "cell_type": "markdown",
   "metadata": {},
   "source": [
    "1. What is a Python library? Why do we use Python libraries?"
   ]
  },
  {
   "cell_type": "markdown",
   "metadata": {},
   "source": []
  },
  {
   "cell_type": "code",
   "execution_count": 1,
   "metadata": {},
   "outputs": [
    {
     "name": "stdout",
     "output_type": "stream",
     "text": [
      "    Name  Age\n",
      "0  Alice   25\n",
      "1    Bob   30\n"
     ]
    }
   ],
   "source": [
    "import pandas as pd\n",
    "data = {'Name': ['Alice', 'Bob'], 'Age': [25, 30]}\n",
    "df = pd.DataFrame(data)\n",
    "print(df)\n"
   ]
  },
  {
   "cell_type": "markdown",
   "metadata": {},
   "source": [
    "2. What is the difference between Numpy array and List?"
   ]
  },
  {
   "cell_type": "markdown",
   "metadata": {},
   "source": [
    "NumPy Array:                                                                    \n",
    "Data Type:\t                Homogeneous: All elements must be of the same data type.\t        \n",
    "Performance:                Faster due to efficient memory handling and vectorized operations.\t\n",
    "Memory Usage:\t            Uses less memory because it stores data in contiguous blocks.\t    \n",
    "Functionality:\t            Supports advanced mathematical and scientific operations like matrix manipulation and linear algebra.\n",
    "Element-wise Operations:\tSupported directly (e.g., addition, multiplication).\t            \n",
    "Dimensionality:             Can handle multi-dimensional data (e.g., 2D matrices, 3D tensors).\n",
    "Indexing:\t                Supports advanced indexing like slicing, masking, and broadcasting.\n",
    "Built-in Methods:\t        Offers many optimized functions for numerical computations.\n",
    "Data Type Enforcement:\t    Automatically converts elements to a single data type (e.g., mixing integers and floats will convert all to floats).\t\n",
    "\n",
    "Python List:\n",
    "Data Type:                  Heterogeneous: Elements can have different data types.\n",
    "Performance:                Slower as it stores elements in a fragmented memory.\n",
    "Memory Usage:               Uses more memory due to overhead for dynamic typing.\n",
    "Functionality:              Limited functionality for numerical computations.\n",
    "Element-wise Operations:    Requires explicit iteration or list comprehensions.\n",
    "mensionality:               Primarily one-dimensional, though nested lists can simulate multi-dimensional data.\n",
    "Indexing:\t\t            Limited to basic slicing and nested indexing.\n",
    "Built-in Methods:\t        Fewer built-in methods for mathematical operations.\n",
    "Data Type Enforcement:\t    Allows mixed data types without conversion."
   ]
  },
  {
   "cell_type": "code",
   "execution_count": 1,
   "metadata": {},
   "outputs": [
    {
     "name": "stdout",
     "output_type": "stream",
     "text": [
      "[1 2 3]\n",
      "[1, 'two', 3.0]\n",
      "[1, 'two', 3.0]\n"
     ]
    }
   ],
   "source": [
    "#1. Homogeneous vs. Heterogeneous\n",
    "#   NumPy Array:\n",
    "import numpy as np\n",
    "\n",
    "arr = np.array([1, 2, 3])\n",
    "print(arr)  # [1 2 3]\n",
    "\n",
    "lst = [1, \"two\", 3.0]\n",
    "print(lst)  # [1, \"two\", 3.0]\n",
    "\n",
    "#   Python List:\n",
    "lst = [1, \"two\", 3.0]\n",
    "print(lst)  # [1, \"two\", 3.0]\n",
    "\n"
   ]
  },
  {
   "cell_type": "code",
   "execution_count": 3,
   "metadata": {},
   "outputs": [
    {
     "name": "stdout",
     "output_type": "stream",
     "text": [
      "[2 4 6]\n",
      "[2, 4, 6]\n"
     ]
    }
   ],
   "source": [
    "#   2. Element-wise Operations\n",
    "#   NumPy Array:\n",
    "arr = np.array([1, 2, 3])\n",
    "print(arr * 2)\n",
    "# Python List:\n",
    "lst = [1, 2, 3]\n",
    "print([x * 2 for x in lst])"
   ]
  },
  {
   "cell_type": "code",
   "execution_count": 2,
   "metadata": {},
   "outputs": [
    {
     "name": "stdout",
     "output_type": "stream",
     "text": [
      "NumPy time: 0.0049877166748046875\n",
      "List time: 0.1276562213897705\n"
     ]
    }
   ],
   "source": [
    "#  Performance Comparison\n",
    "\n",
    "import numpy as np\n",
    "import time\n",
    "\n",
    "# NumPy array\n",
    "arr = np.arange(1_000_000)\n",
    "start = time.time()\n",
    "arr_sum = arr + 1\n",
    "end = time.time()\n",
    "print(\"NumPy time:\", end - start)\n",
    "\n",
    "# Python list\n",
    "lst = list(range(1_000_000))\n",
    "start = time.time()\n",
    "lst_sum = [x + 1 for x in lst]\n",
    "end = time.time()\n",
    "print(\"List time:\", end - start)\n"
   ]
  },
  {
   "cell_type": "markdown",
   "metadata": {},
   "source": [
    "3. Find the shape, size and dimension of the following array?\n",
    "\n",
    "[[1, 2, 3, 4]\n",
    "\n",
    "[5, 6, 7, 8],\n",
    "\n",
    "[9, 10, 11, 12]]"
   ]
  },
  {
   "cell_type": "code",
   "execution_count": 4,
   "metadata": {},
   "outputs": [
    {
     "name": "stdout",
     "output_type": "stream",
     "text": [
      "Shape of the array: (3, 4)\n",
      "Size of the array: 12\n",
      "Shape of the array: 2\n"
     ]
    }
   ],
   "source": [
    "array=np.array([[1,2,3,4],[5,6,7,8],[9,10,11,12]])\n",
    "\n",
    "shape=array.shape\n",
    "\n",
    "size=array.size\n",
    "\n",
    "dimension=array.ndim\n",
    "\n",
    "print(\"Shape of the array:\",shape)\n",
    "\n",
    "print(\"Size of the array:\",size)\n",
    "\n",
    "print(\"Shape of the array:\",dimension)"
   ]
  },
  {
   "cell_type": "markdown",
   "metadata": {},
   "source": [
    "4. Write python code to access the first row of the following array?\n",
    "\n",
    "[[1, 2, 3, 4]\n",
    "\n",
    "[5, 6, 7, 8],\n",
    "\n",
    "[9, 10, 11, 12]]"
   ]
  },
  {
   "cell_type": "code",
   "execution_count": 5,
   "metadata": {},
   "outputs": [
    {
     "name": "stdout",
     "output_type": "stream",
     "text": [
      "First row of the array: [1 2 3 4]\n"
     ]
    }
   ],
   "source": [
    "array=np.array([[1,2,3,4],[5,6,7,8],[9,10,11,12]])\n",
    "\n",
    "first_row=array[0]\n",
    "\n",
    "print(\"First row of the array:\", first_row)"
   ]
  },
  {
   "cell_type": "markdown",
   "metadata": {},
   "source": [
    "5. How do you access the element at the third row and fourth column from the given numpy array?\n",
    "\n",
    "[[1, 2, 3, 4]\n",
    "\n",
    "[5, 6, 7, 8],\n",
    "\n",
    "[9, 10, 11, 12]]\n",
    "\n",
    "\n"
   ]
  },
  {
   "cell_type": "code",
   "execution_count": 6,
   "metadata": {},
   "outputs": [
    {
     "name": "stdout",
     "output_type": "stream",
     "text": [
      "The Element of Third row and fourth column of the array: 12\n"
     ]
    }
   ],
   "source": [
    "array=np.array([[1,2,3,4],[5,6,7,8],[9,10,11,12]])\n",
    "\n",
    "Element=array[2,3]\n",
    "\n",
    "print(\"The Element of Third row and fourth column of the array:\", Element)"
   ]
  },
  {
   "cell_type": "markdown",
   "metadata": {},
   "source": [
    "6. Write code to extract all odd-indexed elements from the given numpy array?\n",
    "\n",
    "[[1, 2, 3, 4]\n",
    "\n",
    "[5, 6, 7, 8],\n",
    "\n",
    "[9, 10, 11, 12]]"
   ]
  },
  {
   "cell_type": "code",
   "execution_count": 7,
   "metadata": {},
   "outputs": [
    {
     "name": "stdout",
     "output_type": "stream",
     "text": [
      "Odd-indexed elements from the array: [[6 8]]\n"
     ]
    }
   ],
   "source": [
    "array=np.array([[1,2,3,4],[5,6,7,8],[9,10,11,12]])\n",
    "\n",
    "odd_index_element=array[1::2,1::2]\n",
    "\n",
    "print(\"Odd-indexed elements from the array:\",odd_index_element)"
   ]
  },
  {
   "cell_type": "markdown",
   "metadata": {},
   "source": [
    "7. How can you generate a random 3x3 matrix with values between 0 and 1?"
   ]
  },
  {
   "cell_type": "code",
   "execution_count": 8,
   "metadata": {},
   "outputs": [
    {
     "name": "stdout",
     "output_type": "stream",
     "text": [
      "Random 3x3 matrix with values between 0 and 1:\n",
      "[[0.03871699 0.48769004 0.83017341]\n",
      " [0.59692206 0.42874856 0.35058753]\n",
      " [0.44338279 0.4883237  0.52978597]]\n"
     ]
    }
   ],
   "source": [
    "matrix=np.random.rand(3,3)\n",
    "print(\"Random 3x3 matrix with values between 0 and 1:\")\n",
    "print(matrix)"
   ]
  },
  {
   "cell_type": "markdown",
   "metadata": {},
   "source": [
    "8. Describe the difference between np.random.rand and np.random.randn?"
   ]
  },
  {
   "cell_type": "code",
   "execution_count": 9,
   "metadata": {},
   "outputs": [
    {
     "name": "stdout",
     "output_type": "stream",
     "text": [
      "Random array from uniform distribution:\n",
      "[[0.32736499 0.06866648 0.74898123]\n",
      " [0.78361257 0.88337763 0.17930043]\n",
      " [0.20874158 0.33332835 0.82355314]]\n",
      "\n",
      "Random array from standard normal distribution:\n",
      "[[-0.07925038  0.99289171 -0.85015946]\n",
      " [-1.20952361  0.91699376 -0.1854356 ]\n",
      " [-0.93354741 -0.35561093 -0.34956543]]\n"
     ]
    }
   ],
   "source": [
    "random_array_uniform=np.random.rand(3,3)\n",
    "\n",
    "random_array_normal=np.random.randn(3,3)\n",
    "\n",
    "print(\"Random array from uniform distribution:\")\n",
    "print(random_array_uniform)\n",
    "\n",
    "print(\"\\nRandom array from standard normal distribution:\")\n",
    "print(random_array_normal)"
   ]
  },
  {
   "cell_type": "markdown",
   "metadata": {},
   "source": [
    "9. Write code to increase the dimension of the following array?\n",
    "\n",
    "[[1, 2, 3, 4]\n",
    "\n",
    "[5, 6, 7, 8],\n",
    "\n",
    "[9, 10, 11, 12]]\n"
   ]
  },
  {
   "cell_type": "code",
   "execution_count": 10,
   "metadata": {},
   "outputs": [
    {
     "name": "stdout",
     "output_type": "stream",
     "text": [
      "\n",
      "Array with increased dimension:\n",
      "[[[ 1  2  3  4]\n",
      "  [ 5  6  7  8]\n",
      "  [ 9 10 11 12]]]\n"
     ]
    }
   ],
   "source": [
    "array=np.array([[1,2,3,4],[5,6,7,8],[9,10,11,12]])\n",
    "\n",
    "increase_dimension=np.expand_dims(array,axis=0)\n",
    "\n",
    "print(\"\\nArray with increased dimension:\")\n",
    "print(increase_dimension)"
   ]
  },
  {
   "cell_type": "markdown",
   "metadata": {},
   "source": [
    "10. How to transpose the following array in NumPy?\n",
    "\n",
    "[[1, 2, 3, 4]\n",
    "\n",
    "[5, 6, 7, 8],\n",
    "\n",
    "[9, 10, 11, 12]]\n",
    "\n",
    "\n"
   ]
  },
  {
   "cell_type": "code",
   "execution_count": 11,
   "metadata": {},
   "outputs": [
    {
     "name": "stdout",
     "output_type": "stream",
     "text": [
      "Transposed array using .T attribute:\n",
      "[[ 1  5  9]\n",
      " [ 2  6 10]\n",
      " [ 3  7 11]\n",
      " [ 4  8 12]]\n",
      "\n",
      "Transposed array using np.transpose() function:\n",
      "[[ 1  5  9]\n",
      " [ 2  6 10]\n",
      " [ 3  7 11]\n",
      " [ 4  8 12]]\n"
     ]
    }
   ],
   "source": [
    "array=np.array([[1,2,3,4],[5,6,7,8],[9,10,11,12]])\n",
    "\n",
    "transpose=array.T\n",
    "\n",
    "print(\"Transposed array using .T attribute:\")\n",
    "print(transpose)\n",
    "\n",
    "transpose_np=np.transpose(array)\n",
    "\n",
    "print(\"\\nTransposed array using np.transpose() function:\")\n",
    "print(transpose_np)\n"
   ]
  },
  {
   "cell_type": "markdown",
   "metadata": {},
   "source": [
    "Perform the following operation using Python:\n",
    "1. Index wise multiplication\n",
    "2. Matrix multiplication\n",
    "3. Add both the matrics\n",
    "4. Subtract matrix B from A\n",
    "5. Divide matrix B by A"
   ]
  },
  {
   "cell_type": "code",
   "execution_count": 12,
   "metadata": {},
   "outputs": [
    {
     "name": "stdout",
     "output_type": "stream",
     "text": [
      "Index-wise multiplication:\n",
      "[[ 9 20 33]\n",
      " [ 5 12 21]\n",
      " [45 60 77]]\n",
      "\n",
      "Matrix multiplication:\n",
      "[[ 26  32  38]\n",
      " [ 86 104 122]\n",
      " [146 176 206]]\n",
      "\n",
      "Addition of matrices:\n",
      "[[10 12 14]\n",
      " [ 6  8 10]\n",
      " [14 16 18]]\n",
      "\n",
      "Subtraction of matrix B from A:\n",
      "[[-8 -8 -8]\n",
      " [ 4  4  4]\n",
      " [ 4  4  4]]\n",
      "\n",
      "Division of matrix B by A:\n",
      "[[9.         5.         3.66666667]\n",
      " [0.2        0.33333333 0.42857143]\n",
      " [0.55555556 0.6        0.63636364]]\n"
     ]
    }
   ],
   "source": [
    "A=np.array([[1,2,3],[5,6,7],[9,10,11]])\n",
    "B=np.array([[9,10,11],[1,2,3],[5,6,7],])\n",
    "\n",
    "Index_wise_multiplication=A*B\n",
    "print(\"Index-wise multiplication:\")\n",
    "print(Index_wise_multiplication)\n",
    "\n",
    "matrix_multiplication=np.dot(A,B)\n",
    "print(\"\\nMatrix multiplication:\")\n",
    "print(matrix_multiplication)\n",
    "\n",
    "addition=A+B\n",
    "print(\"\\nAddition of matrices:\")\n",
    "print(addition)\n",
    "\n",
    "subtraction=A-B\n",
    "print(\"\\nSubtraction of matrix B from A:\")\n",
    "print(subtraction)\n",
    "\n",
    "division = B / A\n",
    "print(\"\\nDivision of matrix B by A:\")\n",
    "print(division)"
   ]
  },
  {
   "cell_type": "markdown",
   "metadata": {},
   "source": [
    "12.  Which function in Numpy can be used to swap the byte order of an array?"
   ]
  },
  {
   "cell_type": "code",
   "execution_count": 13,
   "metadata": {},
   "outputs": [
    {
     "name": "stdout",
     "output_type": "stream",
     "text": [
      "Array with byte order swapped (in-place):\n",
      "[16777216 33554432 50331648 67108864]\n"
     ]
    }
   ],
   "source": [
    "array=np.array([1,2,3,4], dtype=np.int32)\n",
    "array.byteswap(inplace=True)\n",
    "print(\"Array with byte order swapped (in-place):\")\n",
    "print(array)"
   ]
  },
  {
   "cell_type": "markdown",
   "metadata": {},
   "source": [
    "13.  What is the significance of the np.linalg.inv function?"
   ]
  },
  {
   "cell_type": "markdown",
   "metadata": {},
   "source": [
    "The \"np.linalg.inv\" function plays a vital role in linear algebra computations and numerical simulations, providing a convenient and efficient way to compute the inverse of square matrices in Python using NumPy."
   ]
  },
  {
   "cell_type": "markdown",
   "metadata": {},
   "source": [
    "14. What does the np.reshape function do, and how is it used?"
   ]
  },
  {
   "cell_type": "code",
   "execution_count": 7,
   "metadata": {},
   "outputs": [
    {
     "name": "stdout",
     "output_type": "stream",
     "text": [
      "[[1 2 3]\n",
      " [4 5 6]]\n"
     ]
    }
   ],
   "source": [
    "#1. Basic Reshaping\n",
    "import numpy as np\n",
    "arr = np.array([1, 2, 3, 4, 5, 6])\n",
    "reshaped = np.reshape(arr, (2, 3))\n",
    "print(reshaped)\n"
   ]
  },
  {
   "cell_type": "code",
   "execution_count": 6,
   "metadata": {},
   "outputs": [
    {
     "name": "stdout",
     "output_type": "stream",
     "text": [
      "[[1 2]\n",
      " [3 4]\n",
      " [5 6]]\n"
     ]
    }
   ],
   "source": [
    "#2. Using -1 for Automatic Dimension Calculation\n",
    "arr = np.array([1, 2, 3, 4, 5, 6])\n",
    "reshaped = np.reshape(arr, (3, -1))\n",
    "print(reshaped)"
   ]
  },
  {
   "cell_type": "code",
   "execution_count": 8,
   "metadata": {},
   "outputs": [
    {
     "name": "stdout",
     "output_type": "stream",
     "text": [
      "[1 2 3 4 5 6]\n",
      "[[[1 2 3]]\n",
      "\n",
      " [[4 5 6]]]\n"
     ]
    }
   ],
   "source": [
    "#3. Reshaping a Multi-dimensional Array\n",
    "arr = np.array([[1, 2], [3, 4], [5, 6]])\n",
    "flattened = np.reshape(arr, (-1,))\n",
    "print(flattened)\n",
    "reshaped = np.reshape(arr, (2, 1, 3))\n",
    "print(reshaped)"
   ]
  },
  {
   "cell_type": "code",
   "execution_count": 9,
   "metadata": {},
   "outputs": [
    {
     "name": "stdout",
     "output_type": "stream",
     "text": [
      "[99  2  3  4  5  6]\n"
     ]
    }
   ],
   "source": [
    "#4.Reshape and Modify\n",
    "arr = np.array([1, 2, 3, 4, 5, 6])\n",
    "reshaped = np.reshape(arr, (2, 3))\n",
    "reshaped[0, 0] = 99\n",
    "print(arr)\n"
   ]
  },
  {
   "cell_type": "code",
   "execution_count": 10,
   "metadata": {},
   "outputs": [
    {
     "ename": "ValueError",
     "evalue": "cannot reshape array of size 4 into shape (3,2)",
     "output_type": "error",
     "traceback": [
      "\u001b[1;31m---------------------------------------------------------------------------\u001b[0m",
      "\u001b[1;31mValueError\u001b[0m                                Traceback (most recent call last)",
      "Cell \u001b[1;32mIn[10], line 2\u001b[0m\n\u001b[0;32m      1\u001b[0m \u001b[38;5;66;03m#1. Shape Mismatch\u001b[39;00m\n\u001b[1;32m----> 2\u001b[0m \u001b[43mnp\u001b[49m\u001b[38;5;241;43m.\u001b[39;49m\u001b[43mreshape\u001b[49m\u001b[43m(\u001b[49m\u001b[43m[\u001b[49m\u001b[38;5;241;43m1\u001b[39;49m\u001b[43m,\u001b[49m\u001b[43m \u001b[49m\u001b[38;5;241;43m2\u001b[39;49m\u001b[43m,\u001b[49m\u001b[43m \u001b[49m\u001b[38;5;241;43m3\u001b[39;49m\u001b[43m,\u001b[49m\u001b[43m \u001b[49m\u001b[38;5;241;43m4\u001b[39;49m\u001b[43m]\u001b[49m\u001b[43m,\u001b[49m\u001b[43m \u001b[49m\u001b[43m(\u001b[49m\u001b[38;5;241;43m3\u001b[39;49m\u001b[43m,\u001b[49m\u001b[43m \u001b[49m\u001b[38;5;241;43m2\u001b[39;49m\u001b[43m)\u001b[49m\u001b[43m)\u001b[49m\n",
      "File \u001b[1;32mc:\\Users\\Rudra\\AppData\\Local\\Programs\\Python\\Python312\\Lib\\site-packages\\numpy\\_core\\fromnumeric.py:328\u001b[0m, in \u001b[0;36mreshape\u001b[1;34m(a, shape, order, newshape, copy)\u001b[0m\n\u001b[0;32m    326\u001b[0m \u001b[38;5;28;01mif\u001b[39;00m copy \u001b[38;5;129;01mis\u001b[39;00m \u001b[38;5;129;01mnot\u001b[39;00m \u001b[38;5;28;01mNone\u001b[39;00m:\n\u001b[0;32m    327\u001b[0m     \u001b[38;5;28;01mreturn\u001b[39;00m _wrapfunc(a, \u001b[38;5;124m'\u001b[39m\u001b[38;5;124mreshape\u001b[39m\u001b[38;5;124m'\u001b[39m, shape, order\u001b[38;5;241m=\u001b[39morder, copy\u001b[38;5;241m=\u001b[39mcopy)\n\u001b[1;32m--> 328\u001b[0m \u001b[38;5;28;01mreturn\u001b[39;00m \u001b[43m_wrapfunc\u001b[49m\u001b[43m(\u001b[49m\u001b[43ma\u001b[49m\u001b[43m,\u001b[49m\u001b[43m \u001b[49m\u001b[38;5;124;43m'\u001b[39;49m\u001b[38;5;124;43mreshape\u001b[39;49m\u001b[38;5;124;43m'\u001b[39;49m\u001b[43m,\u001b[49m\u001b[43m \u001b[49m\u001b[43mshape\u001b[49m\u001b[43m,\u001b[49m\u001b[43m \u001b[49m\u001b[43morder\u001b[49m\u001b[38;5;241;43m=\u001b[39;49m\u001b[43morder\u001b[49m\u001b[43m)\u001b[49m\n",
      "File \u001b[1;32mc:\\Users\\Rudra\\AppData\\Local\\Programs\\Python\\Python312\\Lib\\site-packages\\numpy\\_core\\fromnumeric.py:54\u001b[0m, in \u001b[0;36m_wrapfunc\u001b[1;34m(obj, method, *args, **kwds)\u001b[0m\n\u001b[0;32m     52\u001b[0m bound \u001b[38;5;241m=\u001b[39m \u001b[38;5;28mgetattr\u001b[39m(obj, method, \u001b[38;5;28;01mNone\u001b[39;00m)\n\u001b[0;32m     53\u001b[0m \u001b[38;5;28;01mif\u001b[39;00m bound \u001b[38;5;129;01mis\u001b[39;00m \u001b[38;5;28;01mNone\u001b[39;00m:\n\u001b[1;32m---> 54\u001b[0m     \u001b[38;5;28;01mreturn\u001b[39;00m \u001b[43m_wrapit\u001b[49m\u001b[43m(\u001b[49m\u001b[43mobj\u001b[49m\u001b[43m,\u001b[49m\u001b[43m \u001b[49m\u001b[43mmethod\u001b[49m\u001b[43m,\u001b[49m\u001b[43m \u001b[49m\u001b[38;5;241;43m*\u001b[39;49m\u001b[43margs\u001b[49m\u001b[43m,\u001b[49m\u001b[43m \u001b[49m\u001b[38;5;241;43m*\u001b[39;49m\u001b[38;5;241;43m*\u001b[39;49m\u001b[43mkwds\u001b[49m\u001b[43m)\u001b[49m\n\u001b[0;32m     56\u001b[0m \u001b[38;5;28;01mtry\u001b[39;00m:\n\u001b[0;32m     57\u001b[0m     \u001b[38;5;28;01mreturn\u001b[39;00m bound(\u001b[38;5;241m*\u001b[39margs, \u001b[38;5;241m*\u001b[39m\u001b[38;5;241m*\u001b[39mkwds)\n",
      "File \u001b[1;32mc:\\Users\\Rudra\\AppData\\Local\\Programs\\Python\\Python312\\Lib\\site-packages\\numpy\\_core\\fromnumeric.py:46\u001b[0m, in \u001b[0;36m_wrapit\u001b[1;34m(obj, method, *args, **kwds)\u001b[0m\n\u001b[0;32m     43\u001b[0m \u001b[38;5;66;03m# As this already tried the method, subok is maybe quite reasonable here\u001b[39;00m\n\u001b[0;32m     44\u001b[0m \u001b[38;5;66;03m# but this follows what was done before. TODO: revisit this.\u001b[39;00m\n\u001b[0;32m     45\u001b[0m arr, \u001b[38;5;241m=\u001b[39m conv\u001b[38;5;241m.\u001b[39mas_arrays(subok\u001b[38;5;241m=\u001b[39m\u001b[38;5;28;01mFalse\u001b[39;00m)\n\u001b[1;32m---> 46\u001b[0m result \u001b[38;5;241m=\u001b[39m \u001b[38;5;28;43mgetattr\u001b[39;49m\u001b[43m(\u001b[49m\u001b[43marr\u001b[49m\u001b[43m,\u001b[49m\u001b[43m \u001b[49m\u001b[43mmethod\u001b[49m\u001b[43m)\u001b[49m\u001b[43m(\u001b[49m\u001b[38;5;241;43m*\u001b[39;49m\u001b[43margs\u001b[49m\u001b[43m,\u001b[49m\u001b[43m \u001b[49m\u001b[38;5;241;43m*\u001b[39;49m\u001b[38;5;241;43m*\u001b[39;49m\u001b[43mkwds\u001b[49m\u001b[43m)\u001b[49m\n\u001b[0;32m     48\u001b[0m \u001b[38;5;28;01mreturn\u001b[39;00m conv\u001b[38;5;241m.\u001b[39mwrap(result, to_scalar\u001b[38;5;241m=\u001b[39m\u001b[38;5;28;01mFalse\u001b[39;00m)\n",
      "\u001b[1;31mValueError\u001b[0m: cannot reshape array of size 4 into shape (3,2)"
     ]
    }
   ],
   "source": [
    "#1. Shape Mismatch\n",
    "np.reshape([1, 2, 3, 4], (3, 2))"
   ]
  },
  {
   "cell_type": "markdown",
   "metadata": {},
   "source": [
    "15. What is broadcasting in Numpy?"
   ]
  },
  {
   "cell_type": "markdown",
   "metadata": {},
   "source": [
    "Broadcasting is a powerful mechanism in NumPy that allows operations to be performed on arrays of different shapes without explicitly reshaping them. It enables NumPy to treat arrays with mismatched dimensions as compatible for element-wise operations by \"stretching\" one or both arrays as needed."
   ]
  },
  {
   "cell_type": "code",
   "execution_count": 12,
   "metadata": {},
   "outputs": [
    {
     "name": "stdout",
     "output_type": "stream",
     "text": [
      "[11 12 13 14]\n"
     ]
    }
   ],
   "source": [
    "#1. Scalar and Array\n",
    "import numpy as np\n",
    "\n",
    "arr = np.array([1, 2, 3, 4])\n",
    "result = arr + 10  \n",
    "print(result)\n"
   ]
  },
  {
   "cell_type": "code",
   "execution_count": 11,
   "metadata": {},
   "outputs": [
    {
     "name": "stdout",
     "output_type": "stream",
     "text": [
      "[[11 21 31 41]\n",
      " [12 22 32 42]\n",
      " [13 23 33 43]]\n"
     ]
    }
   ],
   "source": [
    "# 2. Two Arrays with Compatible Shapes\n",
    "a = np.array([[1], [2], [3]])  \n",
    "b = np.array([10, 20, 30, 40])\n",
    "result = a + b\n",
    "print(result)"
   ]
  },
  {
   "cell_type": "code",
   "execution_count": 13,
   "metadata": {},
   "outputs": [
    {
     "name": "stdout",
     "output_type": "stream",
     "text": [
      "[[ 2  4  6]\n",
      " [ 5  7  9]\n",
      " [ 8 10 12]]\n"
     ]
    }
   ],
   "source": [
    "#3. Arrays with Different Dimensions\n",
    "a = np.array([1, 2, 3])\n",
    "b = np.array([[1, 2, 3], [4, 5, 6], [7, 8, 9]])  \n",
    "result = a + b\n",
    "print(result)\n",
    "\n"
   ]
  },
  {
   "cell_type": "code",
   "execution_count": 14,
   "metadata": {},
   "outputs": [
    {
     "ename": "ValueError",
     "evalue": "operands could not be broadcast together with shapes (2,) (2,3) ",
     "output_type": "error",
     "traceback": [
      "\u001b[1;31m---------------------------------------------------------------------------\u001b[0m",
      "\u001b[1;31mValueError\u001b[0m                                Traceback (most recent call last)",
      "Cell \u001b[1;32mIn[14], line 4\u001b[0m\n\u001b[0;32m      2\u001b[0m a \u001b[38;5;241m=\u001b[39m np\u001b[38;5;241m.\u001b[39marray([\u001b[38;5;241m1\u001b[39m, \u001b[38;5;241m2\u001b[39m])\n\u001b[0;32m      3\u001b[0m b \u001b[38;5;241m=\u001b[39m np\u001b[38;5;241m.\u001b[39marray([[\u001b[38;5;241m1\u001b[39m, \u001b[38;5;241m2\u001b[39m, \u001b[38;5;241m3\u001b[39m], [\u001b[38;5;241m4\u001b[39m, \u001b[38;5;241m5\u001b[39m, \u001b[38;5;241m6\u001b[39m]])\n\u001b[1;32m----> 4\u001b[0m result \u001b[38;5;241m=\u001b[39m \u001b[43ma\u001b[49m\u001b[43m \u001b[49m\u001b[38;5;241;43m+\u001b[39;49m\u001b[43m \u001b[49m\u001b[43mb\u001b[49m\n",
      "\u001b[1;31mValueError\u001b[0m: operands could not be broadcast together with shapes (2,) (2,3) "
     ]
    }
   ],
   "source": [
    "#Unsupported Broadcasting\n",
    "a = np.array([1, 2])\n",
    "b = np.array([[1, 2, 3], [4, 5, 6]])\n",
    "result = a + b"
   ]
  },
  {
   "cell_type": "markdown",
   "metadata": {},
   "source": [
    "# Sorting and Searching"
   ]
  },
  {
   "cell_type": "markdown",
   "metadata": {},
   "source": [
    "Problem 1 :\n",
    "\n",
    "Intersection of Two Sorted Arrays\n",
    "\n",
    "Write a Python program to find the intersection of two sorted arrays.\n",
    "\n",
    "\n",
    "Input:\n",
    "\n",
    "A = [1, 3, 5, 7, 9]\n",
    "\n",
    "B = [2, 4, 5, 8]\n",
    "\n",
    "Output:\n",
    "\n",
    "Intersection: [5]"
   ]
  },
  {
   "cell_type": "code",
   "execution_count": 14,
   "metadata": {},
   "outputs": [
    {
     "name": "stdout",
     "output_type": "stream",
     "text": [
      "Intersection: [5]\n"
     ]
    }
   ],
   "source": [
    "def find_intersection(A, B):\n",
    "    intersection=[]\n",
    "    i=j=0\n",
    "    while i< len(A) and j<len(B):\n",
    "        if A[i]<B[j]:\n",
    "            i+=1\n",
    "        elif A[i] > B[j]:\n",
    "            j+=1\n",
    "        else:\n",
    "            intersection.append(A[i])\n",
    "            i += 1\n",
    "            j += 1\n",
    "    return intersection\n",
    "A = [1, 3, 5, 7, 9]\n",
    "B = [2, 4, 5, 8]\n",
    "intersection = find_intersection(A, B)\n",
    "print(\"Intersection:\", intersection)"
   ]
  },
  {
   "cell_type": "markdown",
   "metadata": {},
   "source": [
    "\n",
    "Problem 2 :\n",
    "\n",
    "Find the Kth Smallest Element\n",
    "\n",
    "Write a Python function to find the kth smallest element in an unsorted list.\n",
    "\n",
    "\n",
    "Input:\n",
    "\n",
    "[12, 3, 1, 7, 8, 20], k = 3\n",
    "\n",
    "Output:\n",
    "\n",
    "The 3rd smallest element is 7"
   ]
  },
  {
   "cell_type": "code",
   "execution_count": 15,
   "metadata": {},
   "outputs": [
    {
     "name": "stdout",
     "output_type": "stream",
     "text": [
      "The 3rd smallest element is 7\n"
     ]
    }
   ],
   "source": [
    "def find_kth_smallest(nums,k):\n",
    "   \n",
    "   sorted_nums=sorted(nums)\n",
    "\n",
    "   return sorted_nums[k-1] if 0<k <=len(sorted_nums) else None\n",
    "\n",
    "nums=[12, 3, 1, 7, 8, 20]\n",
    "k=3\n",
    "kth_smallest=find_kth_smallest(nums,k)\n",
    "\n",
    "if kth_smallest is not None:\n",
    "   print(f\"The {k}rd smallest element is {kth_smallest}\")\n",
    "else:\n",
    "    print(\"Invalid value of k\")\n"
   ]
  },
  {
   "cell_type": "markdown",
   "metadata": {},
   "source": [
    "Problem 3 : \n",
    "\n",
    "\n",
    "Binary Search in a Rotated Sorted Array\n",
    "\n",
    "Implement a Python program to perform a binary search on a rotated sorted array.\n",
    "\n",
    "\n",
    "Input:\n",
    "\n",
    "[4, 5, 6, 7, 8, 9, 1, 2, 3], 6\n",
    "\n",
    "Output:\n",
    "\n",
    "Element 6 found at index 2"
   ]
  },
  {
   "cell_type": "code",
   "execution_count": 16,
   "metadata": {},
   "outputs": [
    {
     "name": "stdout",
     "output_type": "stream",
     "text": [
      "Element not found\n"
     ]
    }
   ],
   "source": [
    "def search_rotated_array(arr,target):\n",
    "    def find_pivot(arr):\n",
    "        left,right=0,len(arr)-1\n",
    "        while left<right:\n",
    "            mid=left+(right-left)//2\n",
    "            if arr[mid]>arr[left]:\n",
    "                left=mid+1\n",
    "            else:\n",
    "                right=mid\n",
    "        return left\n",
    "    def binary_search(arr,left,right,target):\n",
    "        while left<=right:\n",
    "            mid=left+(right-left)//2\n",
    "            if arr[mid]==target:\n",
    "                left=mid+1\n",
    "            else:\n",
    "                right=mid-1\n",
    "        return -1\n",
    "    pivot=find_pivot(arr)\n",
    "    if arr[pivot]==target:\n",
    "        return pivot\n",
    "    if pivot==0:\n",
    "        return binary_search(arr,0,len(arr)-1,target)\n",
    "    if target>arr[-1]:\n",
    "        return binary_search(arr,0,pivot-1,target)\n",
    "    else:\n",
    "        return binary_search(arr,pivot,len(arr)-1,target)\n",
    "arr = [4, 5, 6, 7, 8, 9, 1, 2, 3]\n",
    "target = 6\n",
    "index=search_rotated_array(arr,target)\n",
    "if index!=-1:\n",
    "    print(f\"Element {target} found at index {index}\")\n",
    "else:\n",
    "    print(\"Element not found\")"
   ]
  },
  {
   "cell_type": "code",
   "execution_count": 17,
   "metadata": {},
   "outputs": [
    {
     "name": "stdout",
     "output_type": "stream",
     "text": [
      "Element 6 found at index 2\n"
     ]
    }
   ],
   "source": [
    "def search_rotated_array(arr, target):\n",
    "    def find_pivot(arr):\n",
    "        left, right = 0, len(arr) - 1\n",
    "        \n",
    "        while left < right:\n",
    "            mid = left + (right - left) // 2\n",
    "            \n",
    "            if arr[mid] > arr[right]:\n",
    "                left = mid + 1\n",
    "            else:\n",
    "                right = mid\n",
    "        \n",
    "        return left\n",
    "    def binary_search(arr, left, right, target):\n",
    "        while left <= right:\n",
    "            mid = left + (right - left) // 2\n",
    "            if arr[mid] == target:\n",
    "                return mid\n",
    "            if arr[mid] < target:\n",
    "                left = mid + 1\n",
    "            else:\n",
    "                right = mid - 1    \n",
    "        return -1\n",
    "    pivot = find_pivot(arr)\n",
    "    if arr[pivot] == target:\n",
    "        return pivot\n",
    "    \n",
    "    if pivot == 0:\n",
    "        return binary_search(arr, 0, len(arr) - 1, target)\n",
    "    \n",
    "    if target > arr[-1]:\n",
    "        return binary_search(arr, 0, pivot - 1, target)\n",
    "    else:\n",
    "        return binary_search(arr, pivot, len(arr) - 1, target)\n",
    "arr = [4, 5, 6, 7, 8, 9, 1, 2, 3]\n",
    "target = 6\n",
    "index = search_rotated_array(arr, target)\n",
    "if index != -1:\n",
    "    print(f\"Element {target} found at index {index}\")\n",
    "else:\n",
    "    print(\"Element not found\")\n"
   ]
  },
  {
   "cell_type": "markdown",
   "metadata": {},
   "source": [
    "Problem 4 : \n",
    "\n",
    "\n",
    "Searching in a Matrix\n",
    "\n",
    "Write a Python program that searches for a given element in a 2D matrix and returns its position\n",
    "\n",
    "\n",
    "Input:\n",
    "\n",
    "Matrix = [\n",
    "    [1, 3, 5],\n",
    "    [7, 9, 11],\n",
    "    [13, 15, 17]\n",
    "    ]\n",
    "\n",
    "Element = 1\n",
    "Output:\n",
    "\n",
    "Element 11 found at position (1, 2)"
   ]
  },
  {
   "cell_type": "code",
   "execution_count": 18,
   "metadata": {},
   "outputs": [
    {
     "name": "stdout",
     "output_type": "stream",
     "text": [
      "Element 11 found at position (1, 2)\n"
     ]
    }
   ],
   "source": [
    "def search_matrix(matrix, target):\n",
    "    for i, row in enumerate(matrix):\n",
    "        for j, element in enumerate(row):\n",
    "            if element==target:\n",
    "                return i,j\n",
    "    return None\n",
    "matrix=np.array([[1,3,5],[7,9,11],[13,15,17]])\n",
    "element=11\n",
    "position=search_matrix(matrix,element)\n",
    "if position:\n",
    "    print(f\"Element {element} found at position {position}\")\n",
    "else:\n",
    "    print(f\"Element {element} not found in the matrix\")"
   ]
  },
  {
   "cell_type": "markdown",
   "metadata": {},
   "source": [
    "Problem 5 : \n",
    "\n",
    "\n",
    "Sorting Strings by Length\n",
    "\n",
    "Write a Python program that takes a list of strings and sorts them based on their length.\n",
    "\n",
    "\n",
    "Input:\n",
    "\n",
    "['apple', 'banana', 'kiwi', 'orange', 'grape']\n",
    "\n",
    "\n",
    "Output:\n",
    "\n",
    "['kiwi', 'grape', 'apple', 'banana', 'orange']"
   ]
  },
  {
   "cell_type": "code",
   "execution_count": 19,
   "metadata": {},
   "outputs": [
    {
     "name": "stdout",
     "output_type": "stream",
     "text": [
      "Sorted strings by length: ['kiwi', 'apple', 'grape', 'banana', 'orange']\n"
     ]
    }
   ],
   "source": [
    "import numpy as np\n",
    "def sort_strings_by_length(strings):\n",
    "    \"\"\"\n",
    "    Sort a list of string basen on their length.\n",
    "    \"\"\"\n",
    "    array = np.array(strings)\n",
    "    lengths=np.array([len(string) for string in array])\n",
    "    sorted_indices=np.argsort(lengths)\n",
    "    sorted_array=array[sorted_indices]\n",
    "    return sorted_array.tolist()\n",
    "input_strings=['apple', 'banana', 'kiwi', 'orange', 'grape']\n",
    "sorted_strings=sort_strings_by_length(input_strings)\n",
    "print(\"Sorted strings by length:\", sorted_strings)"
   ]
  },
  {
   "cell_type": "markdown",
   "metadata": {},
   "source": [
    "Problem 6 : \n",
    "\n",
    "Implementing the merge sort ( Will be discussed in the class )"
   ]
  },
  {
   "cell_type": "code",
   "execution_count": 20,
   "metadata": {},
   "outputs": [
    {
     "name": "stdout",
     "output_type": "stream",
     "text": [
      "Sorted array [ 1  2  3  4  5  6  7  8  9 10 11 12 13 14]\n"
     ]
    }
   ],
   "source": [
    "import numpy as np\n",
    "arr=np.array([13,14,12,10,11,9,7,8,4,3,2,5,6,1])\n",
    "sorted_arr=np.sort(arr)\n",
    "print(\"Sorted array\",sorted_arr)"
   ]
  },
  {
   "cell_type": "markdown",
   "metadata": {},
   "source": [
    "Problem 7 : \n",
    "\n",
    "Implementing the quick sort ( will be discussed in the class )"
   ]
  },
  {
   "cell_type": "code",
   "execution_count": 21,
   "metadata": {},
   "outputs": [
    {
     "name": "stdout",
     "output_type": "stream",
     "text": [
      "Sorted array [ 1  2  3  4  5  6  7  8  9 10 11 12 13 14]\n"
     ]
    }
   ],
   "source": [
    "import numpy as np\n",
    "def quicksort(arr):\n",
    "    if len(arr)<=1:\n",
    "        return arr\n",
    "    pivort= arr[len(arr)//2]\n",
    "    left=arr[arr<pivort]\n",
    "    middel=arr[arr==pivort]\n",
    "    right=arr[arr>pivort]\n",
    "    return np.concatenate((quicksort(left),middel,quicksort(right)))\n",
    "arr=np.array([13,14,12,10,11,9,7,8,4,3,2,5,6,1])\n",
    "sorted_arr=quicksort(arr)\n",
    "print(\"Sorted array\",sorted_arr)"
   ]
  },
  {
   "cell_type": "markdown",
   "metadata": {},
   "source": [
    "Problem 8 : \n",
    "\n",
    "Implementing the count sort ( will be discussed in the class )"
   ]
  },
  {
   "cell_type": "code",
   "execution_count": 22,
   "metadata": {},
   "outputs": [
    {
     "name": "stdout",
     "output_type": "stream",
     "text": [
      "Sorted array [1 2 2 3 3 4 8]\n"
     ]
    }
   ],
   "source": [
    "import numpy as np\n",
    "def count_sort(arr):\n",
    "    max_val=np.max(arr)\n",
    "    count=np.zeros(max_val+1,dtype=int)\n",
    "    for num in arr:\n",
    "        count[num]+=1\n",
    "    sorted_arr=[]\n",
    "    for i in range(max_val +1):\n",
    "        sorted_arr.extend([i]*count[i])\n",
    "    return np.array(sorted_arr)\n",
    "arr=np.array([4, 2, 2, 8, 3, 3, 1])\n",
    "sorted_arr=count_sort(arr)\n",
    "print(\"Sorted array\",sorted_arr)"
   ]
  },
  {
   "cell_type": "markdown",
   "metadata": {},
   "source": [
    "Problem 9 : \n",
    "\n",
    "\n",
    "Implement a Python function to find a peak element in an array. A peak element is an element that is greater \n",
    "than or equal to its neighbors.\n",
    "\n",
    "\n",
    "Input:\n",
    "\n",
    "[1, 3, 20, 4, 1, 0]\n",
    "\n",
    "\n",
    "Output:\n",
    "\n",
    "Peak element is 20"
   ]
  },
  {
   "cell_type": "code",
   "execution_count": 23,
   "metadata": {},
   "outputs": [
    {
     "name": "stdout",
     "output_type": "stream",
     "text": [
      "Peak element is 20\n"
     ]
    }
   ],
   "source": [
    "import numpy as np\n",
    "def find_peak(arr):\n",
    "    \"\"\"\n",
    "    Find a peak element in the array.\n",
    "    \"\"\"\n",
    "    arr=np.array(arr)\n",
    "    peak_indices=np.where((arr[:-1]<=arr[1:]) & (arr[1:]>=arr[:-1]))[0]\n",
    "    if len(peak_indices)>0:\n",
    "        peak_index=peak_indices[0]\n",
    "        return arr[peak_index]\n",
    "    else:\n",
    "        return None\n",
    "input_array=[20,21,22,30,41,0,88]\n",
    "peak_element=find_peak(input_array)\n",
    "if peak_element is not None:\n",
    "    print(\"Peak element is\",peak_element)\n",
    "else:\n",
    "    print(\"No peak element found in the array.\")"
   ]
  },
  {
   "cell_type": "markdown",
   "metadata": {},
   "source": [
    "Problem 10 : \n",
    "\n",
    "\n",
    "Search in a Nearly Sorted Array\n",
    "\n",
    "\n",
    "Implement a Python program to perform a binary search in a nearly sorted array. In a nearly sorted array, each \n",
    "element is at most k positions away from its sorted position.\n",
    "\n",
    "\n",
    "Input:\n",
    "\n",
    "[2, 1, 3, 4, 6, 5, 7], k = 1\n",
    "\n",
    "\n",
    "Output:\n",
    "\n",
    "Element 5 found at index 4"
   ]
  },
  {
   "cell_type": "code",
   "execution_count": 24,
   "metadata": {},
   "outputs": [
    {
     "ename": "ValueError",
     "evalue": "The truth value of an array with more than one element is ambiguous. Use a.any() or a.all()",
     "output_type": "error",
     "traceback": [
      "\u001b[1;31m---------------------------------------------------------------------------\u001b[0m",
      "\u001b[1;31mValueError\u001b[0m                                Traceback (most recent call last)",
      "Cell \u001b[1;32mIn[24], line 23\u001b[0m\n\u001b[0;32m     21\u001b[0m target\u001b[38;5;241m=\u001b[39m\u001b[38;5;241m5\u001b[39m\n\u001b[0;32m     22\u001b[0m k\u001b[38;5;241m=\u001b[39m\u001b[38;5;241m1\u001b[39m\n\u001b[1;32m---> 23\u001b[0m result_index\u001b[38;5;241m=\u001b[39m \u001b[43mbinary_search_nearly_sorted\u001b[49m\u001b[43m(\u001b[49m\u001b[43minput_array\u001b[49m\u001b[43m,\u001b[49m\u001b[43m \u001b[49m\u001b[43mtarget\u001b[49m\u001b[43m,\u001b[49m\u001b[43m \u001b[49m\u001b[43mk\u001b[49m\u001b[43m)\u001b[49m\n\u001b[0;32m     24\u001b[0m \u001b[38;5;28;01mif\u001b[39;00m result_index\u001b[38;5;241m!=\u001b[39m\u001b[38;5;241m1\u001b[39m:\n\u001b[0;32m     25\u001b[0m     \u001b[38;5;28mprint\u001b[39m(\u001b[38;5;124mf\u001b[39m\u001b[38;5;124m\"\u001b[39m\u001b[38;5;124mElement \u001b[39m\u001b[38;5;132;01m{\u001b[39;00mtarget\u001b[38;5;132;01m}\u001b[39;00m\u001b[38;5;124m found at index \u001b[39m\u001b[38;5;132;01m{\u001b[39;00mresult_index\u001b[38;5;132;01m}\u001b[39;00m\u001b[38;5;124m using numpy\u001b[39m\u001b[38;5;124m\"\u001b[39m)\n",
      "Cell \u001b[1;32mIn[24], line 13\u001b[0m, in \u001b[0;36mbinary_search_nearly_sorted\u001b[1;34m(arr, target, k)\u001b[0m\n\u001b[0;32m     11\u001b[0m     \u001b[38;5;28;01mreturn\u001b[39;00m mid\n\u001b[0;32m     12\u001b[0m \u001b[38;5;28;01mfor\u001b[39;00m i \u001b[38;5;129;01min\u001b[39;00m \u001b[38;5;28mrange\u001b[39m(\u001b[38;5;28mmax\u001b[39m(\u001b[38;5;241m0\u001b[39m, mid\u001b[38;5;241m-\u001b[39mk)), \u001b[38;5;28mmin\u001b[39m(\u001b[38;5;28mlen\u001b[39m(arr),mid\u001b[38;5;241m+\u001b[39mk\u001b[38;5;241m+\u001b[39m\u001b[38;5;241m1\u001b[39m):\n\u001b[1;32m---> 13\u001b[0m     \u001b[38;5;28;01mif\u001b[39;00m arr[i]\u001b[38;5;241m==\u001b[39mtarget:\n\u001b[0;32m     14\u001b[0m         \u001b[38;5;28;01mreturn\u001b[39;00m i\n\u001b[0;32m     15\u001b[0m     \u001b[38;5;28;01mif\u001b[39;00m arr[mid]\u001b[38;5;241m<\u001b[39mtarget:\n",
      "\u001b[1;31mValueError\u001b[0m: The truth value of an array with more than one element is ambiguous. Use a.any() or a.all()"
     ]
    }
   ],
   "source": [
    "import numpy as np\n",
    "def binary_search_nearly_sorted(arr,target,k):\n",
    "    \"\"\"\n",
    "    Perform a binary search in a nearly sorted array.\n",
    "    \"\"\"\n",
    "    arr=np.array(arr)\n",
    "    left,right=0,len(arr)-1\n",
    "    while left<=right:\n",
    "        mid=left+(right-left)//2\n",
    "        if arr[mid]==target:\n",
    "            return mid\n",
    "        for i in range(max(0, mid-k)), min(len(arr),mid+k+1):\n",
    "            if arr[i]==target:\n",
    "                return i\n",
    "            if arr[mid]<target:\n",
    "                left=mid+1\n",
    "            else:\n",
    "                right=mid-1\n",
    "    return -1\n",
    "input_array=[2, 1, 3, 4, 6, 5, 7]\n",
    "target=5\n",
    "k=1\n",
    "result_index= binary_search_nearly_sorted(input_array, target, k)\n",
    "if result_index!=1:\n",
    "    print(f\"Element {target} found at index {result_index} using numpy\")\n",
    "else:\n",
    "    print(\"Element {target} not found in the array.\")"
   ]
  }
 ],
 "metadata": {
  "kernelspec": {
   "display_name": "Python 3",
   "language": "python",
   "name": "python3"
  },
  "language_info": {
   "codemirror_mode": {
    "name": "ipython",
    "version": 3
   },
   "file_extension": ".py",
   "mimetype": "text/x-python",
   "name": "python",
   "nbconvert_exporter": "python",
   "pygments_lexer": "ipython3",
   "version": "3.12.0"
  }
 },
 "nbformat": 4,
 "nbformat_minor": 2
}
